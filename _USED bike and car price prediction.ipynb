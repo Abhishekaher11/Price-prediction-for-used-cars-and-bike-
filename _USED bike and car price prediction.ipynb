{
 "cells": [
  {
   "cell_type": "code",
   "execution_count": 4,
   "id": "44f4f534",
   "metadata": {},
   "outputs": [
    {
     "name": "stdout",
     "output_type": "stream",
     "text": [
      "Car Price Prediction R^2 Score: 0.52\n",
      "Bike Price Prediction R^2 Score: 0.07\n",
      "Predicted Car Price: 6.05 lakhs\n",
      "Predicted Bike Price: 85788.69 INR\n"
     ]
    },
    {
     "name": "stderr",
     "output_type": "stream",
     "text": [
      "C:\\Users\\ABHISHEK\\anaconda3\\Lib\\site-packages\\sklearn\\base.py:464: UserWarning: X does not have valid feature names, but LinearRegression was fitted with feature names\n",
      "  warnings.warn(\n",
      "C:\\Users\\ABHISHEK\\anaconda3\\Lib\\site-packages\\sklearn\\base.py:464: UserWarning: X does not have valid feature names, but LinearRegression was fitted with feature names\n",
      "  warnings.warn(\n"
     ]
    }
   ],
   "source": [
    "# Importing necessary libraries\n",
    "import pandas as pd\n",
    "from sklearn.model_selection import train_test_split\n",
    "from sklearn.linear_model import LinearRegression\n",
    "from sklearn.metrics import r2_score\n",
    "\n",
    "# Load the datasets\n",
    "car_data = pd.read_csv('C:/Users/ABHISHEK/Downloads/CAR_6000.csv')\n",
    "bike_data = pd.read_csv('C:/Users/ABHISHEK/Downloads/BIKE_1000.csv')\n",
    "\n",
    "# Preprocessing the car dataset\n",
    "car_data['mileage'] = car_data['mileage'].str.replace('kmpl', '').str.replace('km/kg', '').astype(float)\n",
    "car_data['transmission'] = car_data['transmission'].map({'Manual': 0, 'Automatic': 1})\n",
    "car_data['fuel_Type'] = car_data['fuel_Type'].map({'CNG': 0, 'LPG': 1, 'Petrol': 2, 'Diesel': 3})\n",
    "car_data['owner_Type'] = car_data['owner_Type'].map({'First': 0, 'Second': 1, 'Third': 2, 'Fourth & Above': 3})\n",
    "car_data.dropna(inplace=True)\n",
    "\n",
    "# Defining features and target for car price prediction\n",
    "X_car = car_data[['year', 'kilometers_Driven', 'fuel_Type', 'transmission', 'mileage']]\n",
    "y_car = car_data['selling_price']\n",
    "\n",
    "# Splitting the car dataset\n",
    "X_train_car, X_test_car, y_train_car, y_test_car = train_test_split(X_car, y_car, test_size=0.2, random_state=42)\n",
    "\n",
    "# Training a Linear Regression model for car price prediction\n",
    "car_model = LinearRegression()\n",
    "car_model.fit(X_train_car, y_train_car)\n",
    "\n",
    "# Predicting car prices\n",
    "car_predictions = car_model.predict(X_test_car)\n",
    "car_r2 = r2_score(y_test_car, car_predictions)\n",
    "\n",
    "# Preprocessing the bike dataset\n",
    "bike_data['owner'] = bike_data['owner'].map({'1st owner': 0, '2nd owner': 1, '3rd owner': 2, '4th owner': 3})\n",
    "bike_data.dropna(subset=['ex_showroom_price'], inplace=True)\n",
    "\n",
    "# Defining features and target for bike price prediction\n",
    "X_bike = bike_data[['year', 'km_driven', 'owner']]\n",
    "y_bike = bike_data['selling_price']\n",
    "\n",
    "# Splitting the bike dataset\n",
    "X_train_bike, X_test_bike, y_train_bike, y_test_bike = train_test_split(X_bike, y_bike, test_size=0.2, random_state=42)\n",
    "\n",
    "# Training a Linear Regression model for bike price prediction\n",
    "bike_model = LinearRegression()\n",
    "bike_model.fit(X_train_bike, y_train_bike)\n",
    "\n",
    "# Predicting bike prices\n",
    "bike_predictions = bike_model.predict(X_test_bike)\n",
    "bike_r2 = r2_score(y_test_bike, bike_predictions)\n",
    "\n",
    "# Displaying results\n",
    "print(f\"Car Price Prediction R^2 Score: {car_r2:.2f}\")\n",
    "print(f\"Bike Price Prediction R^2 Score: {bike_r2:.2f}\")\n",
    "\n",
    "# Example user input for car price prediction\n",
    "def predict_car_price(year, kilometers_driven, fuel_type, transmission, mileage):\n",
    "    return car_model.predict([[year, kilometers_driven, fuel_type, transmission, mileage]])[0]\n",
    "\n",
    "# Example user input for bike price prediction\n",
    "def predict_bike_price(year, km_driven, owner):\n",
    "    return bike_model.predict([[year, km_driven, owner]])[0]\n",
    "\n",
    "# Example usage\n",
    "car_price = predict_car_price(2015, 40000, 2, 0, 18.0)\n",
    "bike_price = predict_bike_price(2019, 15000, 0)\n",
    "\n",
    "print(f\"Predicted Car Price: {car_price:.2f} lakhs\")\n",
    "print(f\"Predicted Bike Price: {bike_price:.2f} INR\")\n"
   ]
  },
  {
   "cell_type": "code",
   "execution_count": null,
   "id": "261b804c",
   "metadata": {},
   "outputs": [],
   "source": []
  }
 ],
 "metadata": {
  "kernelspec": {
   "display_name": "Python 3 (ipykernel)",
   "language": "python",
   "name": "python3"
  },
  "language_info": {
   "codemirror_mode": {
    "name": "ipython",
    "version": 3
   },
   "file_extension": ".py",
   "mimetype": "text/x-python",
   "name": "python",
   "nbconvert_exporter": "python",
   "pygments_lexer": "ipython3",
   "version": "3.11.5"
  }
 },
 "nbformat": 4,
 "nbformat_minor": 5
}
